{
 "cells": [
  {
   "cell_type": "markdown",
   "id": "4fc265b0",
   "metadata": {},
   "source": [
    "# NLP_TP Transformers\n",
    "### Abdelouahab EL HADAF"
   ]
  },
  {
   "cell_type": "markdown",
   "id": "65b669dd",
   "metadata": {},
   "source": [
    "## --------------------------------------------------------------------------------------"
   ]
  },
  {
   "cell_type": "markdown",
   "id": "145be2de",
   "metadata": {},
   "source": [
    "## 01- Sentiment analysis"
   ]
  },
  {
   "cell_type": "code",
   "execution_count": 87,
   "id": "10e24977",
   "metadata": {
    "scrolled": true
   },
   "outputs": [
    {
     "name": "stdout",
     "output_type": "stream",
     "text": [
      "{'label': '4 stars', 'score': 0.4435526132583618}\n",
      "label: 4 stars, with score: 44.36%\n",
      "label: 1 star, with score: 72.54%\n"
     ]
    }
   ],
   "source": [
    "from transformers import pipeline\n",
    "\n",
    "nlp = pipeline(\"sentiment-analysis\", model=\"nlptown/bert-base-multilingual-uncased-sentiment\")\n",
    "\n",
    "result = nlp(\"bien dit\")[0]\n",
    "print(result)\n",
    "print(f\"label: {result['label']}, with score: {round(result['score']*100, 2)}%\")\n",
    "\n",
    "result = nlp(\"mauvais travail\")[0]\n",
    "print(f\"label: {result['label']}, with score: {round(result['score']*100, 2)}%\")"
   ]
  },
  {
   "cell_type": "markdown",
   "id": "80f031f4",
   "metadata": {},
   "source": [
    "## 02- Text generation"
   ]
  },
  {
   "cell_type": "code",
   "execution_count": null,
   "id": "4668bfb2",
   "metadata": {
    "scrolled": true
   },
   "outputs": [],
   "source": [
    "from transformers import pipeline"
   ]
  },
  {
   "cell_type": "code",
   "execution_count": 83,
   "id": "63bf964e",
   "metadata": {},
   "outputs": [
    {
     "name": "stderr",
     "output_type": "stream",
     "text": [
      "Setting `pad_token_id` to `eos_token_id`:50256 for open-end generation.\n"
     ]
    },
    {
     "name": "stdout",
     "output_type": "stream",
     "text": [
      "[{'generated_text': \"je lis un texte de la main de l'empereur, qui est publié en 1212. Il est suivi par un autre texte, qui est publié en 1214. Il est suivi par un autre texte, qui est publié en 1218. Il\"}]\n"
     ]
    }
   ],
   "source": [
    "# Frensh\n",
    "text_generator_fr = pipeline('text-generation', model='dbddv01/gpt2-french-small')\n",
    "\n",
    "print(text_generator_fr(\"je lis un\", max_length=50, do_sample=False))"
   ]
  },
  {
   "cell_type": "code",
   "execution_count": 84,
   "id": "bc8556ac",
   "metadata": {},
   "outputs": [
    {
     "name": "stderr",
     "output_type": "stream",
     "text": [
      "Setting `pad_token_id` to `eos_token_id`:50256 for open-end generation.\n"
     ]
    },
    {
     "name": "stdout",
     "output_type": "stream",
     "text": [
      "[{'generated_text': 'في المغرب السياحة الجبلية ادياد، كما يوجد بها العديد من المساجد، منها مسجد سيدي عبد الله، ومسجد سيدي عبد الله، ومسجد سيدي عبد الله، ومسجد سيدي عبد الله، ومسجد سيدي عبد الله، ومسجد سيدي عبد الله، ومسجد سيدي عبد الله'}]\n"
     ]
    }
   ],
   "source": [
    "# Arabic\n",
    "text_generator_Ar = pipeline('text-generation', model='akhooli/gpt2-small-arabic')\n",
    "print(text_generator_Ar(\"في المغرب السياحة الجبلية \", max_length=50, do_sample=False))\n"
   ]
  },
  {
   "cell_type": "markdown",
   "id": "1af36c17",
   "metadata": {},
   "source": [
    "## 03- Name entity recognition (NER)"
   ]
  },
  {
   "cell_type": "code",
   "execution_count": 85,
   "id": "3a2364c9",
   "metadata": {},
   "outputs": [
    {
     "name": "stderr",
     "output_type": "stream",
     "text": [
      "Asking to truncate to max_length but no maximum length is provided and the model has no predefined maximum length. Default to no truncation.\n"
     ]
    },
    {
     "name": "stdout",
     "output_type": "stream",
     "text": [
      "[{'entity': 'LABEL_12', 'score': 0.9995651, 'index': 1, 'word': 'في', 'start': 0, 'end': 2}, {'entity': 'LABEL_4', 'score': 0.99893975, 'index': 2, 'word': 'المغرب', 'start': 3, 'end': 9}, {'entity': 'LABEL_12', 'score': 0.99967027, 'index': 3, 'word': 'السياحة', 'start': 10, 'end': 17}, {'entity': 'LABEL_12', 'score': 0.9997578, 'index': 4, 'word': 'الجبلية', 'start': 18, 'end': 25}]\n",
      "[]\n",
      "[{'entity': 'CLS', 'score': 0.99967825, 'index': 1, 'word': 'je', 'start': 0, 'end': 2}, {'entity': 'V', 'score': 0.9995579, 'index': 2, 'word': 'li', 'start': 3, 'end': 5}, {'entity': 'V', 'score': 0.9974327, 'index': 3, 'word': '##s', 'start': 5, 'end': 6}, {'entity': 'DET', 'score': 0.9900251, 'index': 4, 'word': 'un', 'start': 7, 'end': 9}]\n"
     ]
    }
   ],
   "source": [
    "\n",
    "from transformers import AutoTokenizer, AutoModelForTokenClassification\n",
    "from transformers import pipeline\n",
    "\n",
    "ner_english_recognition = pipeline(\"ner\", model=\"dslim/bert-base-NER\", tokenizer=\"dslim/bert-base-NER\")\n",
    "ner_arabic_recognition = pipeline(\"ner\", model=\"hatmimoha/arabic-ner\", tokenizer=\"hatmimoha/arabic-ner\")\n",
    "ner_french_recognition = pipeline(\"ner\", model=\"gilf/french-postag-model\", tokenizer=\"gilf/french-postag-model\")\n",
    "\n",
    "print(ner_arabic_recognition(\"في المغرب السياحة الجبلية\"))\n",
    " \n",
    "print(ner_english_recognition(\"good time\"))\n",
    "\n",
    "print(ner_french_recognition(\"je lis un\"))"
   ]
  },
  {
   "cell_type": "markdown",
   "id": "dff416e2",
   "metadata": {},
   "source": [
    "## 04- Question answering"
   ]
  },
  {
   "cell_type": "code",
   "execution_count": 86,
   "id": "511e712a",
   "metadata": {},
   "outputs": [
    {
     "name": "stdout",
     "output_type": "stream",
     "text": [
      "Reponse: commune rurale de Shoul du côté de Salé\n"
     ]
    }
   ],
   "source": [
    "from transformers import pipeline\n",
    "question_answering = pipeline(\"question-answering\")\n",
    "context = \"\"\"\n",
    "Le ville de Salé se trouve dans le plateau côtier large de 10 à 50 km, formé de plaines douces inclinées vers l’Océan Atlantique qui s'étend de Rabat-Salé à Skhirate-Témara, et du littoral atlantique au barrage Sidi Mohammed ben Abdellah9. L'altitude de la ville de Salé et du plateau côtier tout entier ne dépasse pas les 100 m10. Le fleuve Bouregreg qui sépare Rabat et Salé, donne une vallée plus ou moins large selon les endroits, pénétrant d’une quinzaine de kilomètres en amont de l’embouchure, surplombée par les plateaux de Bettana, Sala Al Jadida et de la commune rurale de Shoul du côté de Salé, et par ceux des quartiers de Hassan, El Youssoufia, Nahda et Akkrach du côté de Rabat. L'« arrière-pays » de Rabat-Salé est plutôt vert loin de l'urbanisation de masse, notamment grâce à la présence des forêts de la Mamora et de Témara, à proximité.\n",
    "\"\"\"\n",
    "question = \"Quelle est Sala Al Jadida?\"\n",
    "result = question_answering(question=question, context=context)\n",
    "print(\"Reponse:\", result['answer'])\n",
    "\n",
    "\n"
   ]
  },
  {
   "cell_type": "markdown",
   "id": "c9a9c291",
   "metadata": {},
   "source": [
    "## 05- Filling masked text"
   ]
  },
  {
   "cell_type": "code",
   "execution_count": 89,
   "id": "3c913305",
   "metadata": {
    "scrolled": true
   },
   "outputs": [
    {
     "name": "stdout",
     "output_type": "stream",
     "text": [
      "[{'score': 0.07141325622797012,\n",
      "  'sequence': 'Les coronavirus sont des fins de la famille des Coronaviridae.',\n",
      "  'token': 40863,\n",
      "  'token_str': ' fins'},\n",
      " {'score': 0.060414496809244156,\n",
      "  'sequence': 'Les coronavirus sont des mutations de la famille des '\n",
      "              'Coronaviridae.',\n",
      "  'token': 28513,\n",
      "  'token_str': ' mutations'},\n",
      " {'score': 0.04682721570134163,\n",
      "  'sequence': 'Les coronavirus sont des clones de la famille des '\n",
      "              'Coronaviridae.',\n",
      "  'token': 44001,\n",
      "  'token_str': ' clones'},\n",
      " {'score': 0.04283902421593666,\n",
      "  'sequence': 'Les coronavirus sont des parasites de la famille des '\n",
      "              'Coronaviridae.',\n",
      "  'token': 37891,\n",
      "  'token_str': ' parasites'},\n",
      " {'score': 0.04136008024215698,\n",
      "  'sequence': 'Les coronavirus sont des genes de la famille des Coronaviridae.',\n",
      "  'token': 14819,\n",
      "  'token_str': ' genes'}]\n"
     ]
    }
   ],
   "source": [
    "from transformers import pipeline\n",
    "\n",
    "nlp = pipeline(\"fill-mask\")\n",
    "\n",
    "from pprint import pprint\n",
    "pprint(nlp(f\"Les coronavirus sont des {nlp.tokenizer.mask_token} de la famille des Coronaviridae.\"))\n",
    "\n"
   ]
  },
  {
   "cell_type": "code",
   "execution_count": 91,
   "id": "cc8ba494",
   "metadata": {},
   "outputs": [
    {
     "name": "stderr",
     "output_type": "stream",
     "text": [
      "Some weights of the model checkpoint at CAMeL-Lab/bert-base-camelbert-ca were not used when initializing BertForMaskedLM: ['cls.seq_relationship.bias', 'cls.seq_relationship.weight']\n",
      "- This IS expected if you are initializing BertForMaskedLM from the checkpoint of a model trained on another task or with another architecture (e.g. initializing a BertForSequenceClassification model from a BertForPreTraining model).\n",
      "- This IS NOT expected if you are initializing BertForMaskedLM from the checkpoint of a model that you expect to be exactly identical (initializing a BertForSequenceClassification model from a BertForSequenceClassification model).\n"
     ]
    },
    {
     "name": "stdout",
     "output_type": "stream",
     "text": [
      "[{'score': 0.11413954198360443,\n",
      "  'sequence': 'جمعيات تدق ناقوس الخطر بشأن استنزاف الموارد التي بالجنوب '\n",
      "              'الشرقي.',\n",
      "  'token': 2061,\n",
      "  'token_str': 'التي'},\n",
      " {'score': 0.03722378611564636,\n",
      "  'sequence': 'جمعيات تدق ناقوس الخطر بشأن استنزاف الموارد المعروفة بالجنوب '\n",
      "              'الشرقي.',\n",
      "  'token': 14983,\n",
      "  'token_str': 'المعروفة'},\n",
      " {'score': 0.03433230519294739,\n",
      "  'sequence': 'جمعيات تدق ناقوس الخطر بشأن استنزاف الموارد الواردة بالجنوب '\n",
      "              'الشرقي.',\n",
      "  'token': 13647,\n",
      "  'token_str': 'الواردة'},\n",
      " {'score': 0.013632998801767826,\n",
      "  'sequence': 'جمعيات تدق ناقوس الخطر بشأن استنزاف الموارد الكثيرة بالجنوب '\n",
      "              'الشرقي.',\n",
      "  'token': 18894,\n",
      "  'token_str': 'الكثيرة'},\n",
      " {'score': 0.013485289178788662,\n",
      "  'sequence': 'جمعيات تدق ناقوس الخطر بشأن استنزاف الموارد الاقتصادية بالجنوب '\n",
      "              'الشرقي.',\n",
      "  'token': 5139,\n",
      "  'token_str': 'الاقتصادية'}]\n"
     ]
    }
   ],
   "source": [
    "#Arabic\n",
    "arabic_fill_mask = pipeline('fill-mask', model='CAMeL-Lab/bert-base-camelbert-ca')\n",
    "pprint(arabic_fill_mask(\"جمعيات تدق ناقوس الخطر بشأن استنزاف الموارد[MASK]‬ بالجنوب الشرقي .\"))"
   ]
  },
  {
   "cell_type": "markdown",
   "id": "6f56d9cc",
   "metadata": {},
   "source": [
    "## 06- Summarization"
   ]
  },
  {
   "cell_type": "code",
   "execution_count": 92,
   "id": "6186b099",
   "metadata": {},
   "outputs": [
    {
     "name": "stdout",
     "output_type": "stream",
     "text": [
      "[{'summary_text': \" Le Maroc était connu sous le nom de royaume de Marrakech, sous les trois dynasties . Sous la dynastie des Alaouites, toujours au pouvoir, le pays passé de l'appellation d'« Empire chérifien » to celle de 'royaume du Maroc » en 195725 .\"}]\n"
     ]
    }
   ],
   "source": [
    "from transformers import pipeline\n",
    "\n",
    "summarizer = pipeline(\"summarization\")\n",
    "\n",
    "ARTICLE = \"\"\" \n",
    "Le Maroc était connu sous le nom de royaume de Marrakech, sous les trois dynasties qui avaient cette ville comme capitale. Puis, sous le nom de royaume de Fès, sous les dynasties qui résidaient à Fès. Au xixe siècle, les cartographes européens mentionnaient toujours un « royaume de Maroc », en indiquant l'ancienne capitale « Maroc » (pour Marrakech). Sous la dynastie des Alaouites, toujours au pouvoir, le pays est passé de l'appellation d'« Empire chérifien » à celle de « royaume du Maroc » en 195725, le sultan Sidi Mohammed ben Youssef en devenant le roi, en tant que Mohammed V. Il peut être aussi surnommé « Royaume chérifien », en référence au souverain alaouite, descendant du prophète de l'islam Mahomet, qualifié de « chérif ».\n",
    "\"\"\"\n",
    "print(summarizer(ARTICLE, max_length=130, min_length=30, do_sample=False))"
   ]
  },
  {
   "cell_type": "markdown",
   "id": "d3e5558b",
   "metadata": {},
   "source": [
    "## 07- Translation"
   ]
  },
  {
   "cell_type": "code",
   "execution_count": 93,
   "id": "5269606b",
   "metadata": {
    "scrolled": true
   },
   "outputs": [
    {
     "name": "stdout",
     "output_type": "stream",
     "text": [
      "[{'translation_text': 'Cela permet aux gens de comprendre des termes ou des '\n",
      "                      'expressions complexes.'}]\n"
     ]
    }
   ],
   "source": [
    "from transformers import pipeline\n",
    "# English to french\n",
    "translator = pipeline(\"translation_en_to_fr\")\n",
    "from transformers import AutoTokenizer, AutoModelForSeq2SeqLM\n",
    "\n",
    "pprint(translator(\"This allows people to understand complex terms or phrases.\", max_length=40))\n"
   ]
  },
  {
   "cell_type": "code",
   "execution_count": 94,
   "id": "a7451bc5",
   "metadata": {},
   "outputs": [
    {
     "name": "stdout",
     "output_type": "stream",
     "text": [
      "['السياحة الجبلية في المغرب']\n"
     ]
    }
   ],
   "source": [
    "# english to Arabic\n",
    "from transformers import MarianTokenizer, MarianMTModel\n",
    "\n",
    "tokenizer = MarianTokenizer.from_pretrained(\"marefa-nlp/marefa-mt-en-ar\")\n",
    "model = MarianMTModel.from_pretrained(\"marefa-nlp/marefa-mt-en-ar\")\n",
    "\n",
    "text = \"Mountain tourism in Morocco\"\n",
    "\n",
    "translated_tokens = model.generate(**tokenizer.prepare_seq2seq_batch(text, return_tensors=\"pt\"))\n",
    "Output_text = [tokenizer.decode(t, skip_special_tokens=True) for t in translated_tokens]\n",
    "\n",
    "print(Output_text)"
   ]
  },
  {
   "cell_type": "code",
   "execution_count": 95,
   "id": "e032ce8d",
   "metadata": {},
   "outputs": [
    {
     "name": "stdout",
     "output_type": "stream",
     "text": [
      "['Mountain tourism in Morocco.']\n"
     ]
    }
   ],
   "source": [
    "# Arabic to English\n",
    "from transformers import MBartForConditionalGeneration, MBart50TokenizerFast\n",
    "\n",
    "text_ar = \"السياحة الجبلية في المغرب\"\n",
    "\n",
    "model = MBartForConditionalGeneration.from_pretrained(\"facebook/mbart-large-50-many-to-many-mmt\")\n",
    "tokenizer = MBart50TokenizerFast.from_pretrained(\"facebook/mbart-large-50-many-to-many-mmt\")\n",
    "tokenizer.src_lang = \"ar_AR\"\n",
    "encoded_ar = tokenizer(text_ar, return_tensors=\"pt\")\n",
    "generated_tokens = model.generate(**encoded_ar, forced_bos_token_id=tokenizer.lang_code_to_id[\"en_XX\"])\n",
    "pprint(tokenizer.batch_decode(generated_tokens, skip_special_tokens=True))\n"
   ]
  },
  {
   "cell_type": "markdown",
   "id": "7531300a",
   "metadata": {},
   "source": [
    "## 08- Feature extraction"
   ]
  },
  {
   "cell_type": "code",
   "execution_count": 96,
   "id": "f397f772",
   "metadata": {},
   "outputs": [
    {
     "data": {
      "text/plain": [
       "['engineer',\n",
       " 'good',\n",
       " 'interested',\n",
       " 'politics',\n",
       " 'sample',\n",
       " 'sentence',\n",
       " 'software']"
      ]
     },
     "execution_count": 96,
     "metadata": {},
     "output_type": "execute_result"
    }
   ],
   "source": [
    "from sklearn.feature_extraction.text import CountVectorizer\n",
    "\n",
    "# sentences.\n",
    "sentences = [\n",
    "    \"This is a sample sentence\",\n",
    "    \"I am interested in politics\",\n",
    "    \"You are a very good software engineer, engineer.\",]\n",
    "\n",
    "vectorizer = CountVectorizer(stop_words='english')\n",
    "\n",
    "vectorizer.fit(sentences)\n",
    "\n",
    "vectorizer.get_feature_names()"
   ]
  },
  {
   "cell_type": "code",
   "execution_count": null,
   "id": "01ed7eb9",
   "metadata": {},
   "outputs": [],
   "source": []
  }
 ],
 "metadata": {
  "kernelspec": {
   "display_name": "Python 3",
   "language": "python",
   "name": "python3"
  },
  "language_info": {
   "codemirror_mode": {
    "name": "ipython",
    "version": 3
   },
   "file_extension": ".py",
   "mimetype": "text/x-python",
   "name": "python",
   "nbconvert_exporter": "python",
   "pygments_lexer": "ipython3",
   "version": "3.8.8"
  }
 },
 "nbformat": 4,
 "nbformat_minor": 5
}
